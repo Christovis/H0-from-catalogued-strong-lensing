{
 "cells": [
  {
   "cell_type": "markdown",
   "metadata": {},
   "source": [
    "# Modelling of catalogue data\n",
    "$\\texttt{lenstronomy}$ was originally developed to simulate and model imaging data. The modular design allows to model and sample data in catalogue form too. In this notebook, we consider the modelling of a quadruply imaged (quasar) lens.\n",
    "\n",
    "In a first step, we simulate a quad lens and compute the following mock data products:\n",
    "\n",
    "- image positions (with astrometric uncertainties)\n",
    "- relative time delays (with uncertainties)\n",
    "- relative image brightness (with uncertainties) based on a extended Gaussian surface brighness corresponding to a narrow line emission region.\n",
    "\n",
    "In a section step, we use this mock data to sample the lens model parameter space (and optionally the quasar source size). The modelling can also be used if only partial information (e.g. no time delays and/or no flux ratio measurements) are available."
   ]
  },
  {
   "cell_type": "code",
   "execution_count": 1,
   "metadata": {},
   "outputs": [],
   "source": [
    "# import the necessary python modules\n",
    "import numpy as np\n",
    "import time\n",
    "import corner\n",
    "import json\n",
    "\n",
    "from lenstronomy.LensModel.lens_model import LensModel\n",
    "from lenstronomy.LensModel.lens_model_extensions import LensModelExtensions\n",
    "from lenstronomy.LensModel.Solver.lens_equation_solver import LensEquationSolver\n",
    "from lenstronomy.Cosmo.lens_cosmo import LensCosmo\n",
    "from lenstronomy.Util import constants\n",
    "from astropy.cosmology import FlatLambdaCDM\n",
    "import lenstronomy.Plots.output_plots as lens_plot\n",
    "\n",
    "import matplotlib.pyplot as plt\n",
    "%matplotlib inline"
   ]
  },
  {
   "cell_type": "markdown",
   "metadata": {},
   "source": [
    "## Load catalogued data"
   ]
  },
  {
   "cell_type": "code",
   "execution_count": 2,
   "metadata": {},
   "outputs": [],
   "source": [
    "args = {}\n",
    "args[\"infile\"] = \"../limg_catalogs_no_los_4_b.json\"\n",
    "args[\"dt_sigma\"] = 2\n",
    "args[\"image_amps_sigma\"] = 0.3\n",
    "args[\"flux_ratio_errors\"] = 0.1\n",
    "args[\"astrometry_sigma\"] = 0.004"
   ]
  },
  {
   "cell_type": "code",
   "execution_count": 3,
   "metadata": {},
   "outputs": [],
   "source": [
    "with open(args[\"infile\"], \"r\") as myfile:\n",
    "    limg_data = myfile.read()\n",
    "systems = json.loads(limg_data)\n",
    "\n",
    "with open(\"../lens_catalogs_sie_only.json\", \"r\") as myfile:\n",
    "    limg_data = myfile.read()\n",
    "systems_prior = json.loads(limg_data)\n",
    "\n",
    "cosmo = FlatLambdaCDM(H0=70, Om0=0.3, Ob0=0.)\n",
    "# we chose a finite source size of the emitting\n",
    "# 'point source' region Gaussian source size\n",
    "# in units of parsec\n",
    "source_size_pc = 10.\n",
    "\n",
    "# we compute the finite magnification by rendering\n",
    "# a grid around the point source position and add up\n",
    "# all the flux coming from the extended source in this window\n",
    "window_size = 0.1  # units of arcseconds\n",
    "grid_number = 100  # supersampled window (per axis)\n",
    "z_source = 2.0\n",
    "c_light = 299792.458  # in km/s\n"
   ]
  },
  {
   "cell_type": "code",
   "execution_count": 4,
   "metadata": {},
   "outputs": [
    {
     "name": "stdout",
     "output_type": "stream",
     "text": [
      "2977.5610722279025\n",
      "100.68389891183192\n"
     ]
    }
   ],
   "source": [
    "for ii in range(len(systems))[:1]:\n",
    "    system = systems[ii]\n",
    "    system_prior = systems_prior[ii]\n",
    "\n",
    "    # the data set is\n",
    "    z_lens = system_prior[\"zl\"]\n",
    "    \n",
    "    lensCosmo = LensCosmo(\n",
    "        cosmo=cosmo,\n",
    "        z_lens=z_lens,\n",
    "        z_source=z_source,\n",
    "    )\n",
    "    print(lensCosmo.D_dt)\n",
    "    print(c_light/lensCosmo.D_dt)\n",
    "    # convert units of pc into arcseconds\n",
    "    D_s = lensCosmo.D_s\n",
    "    source_size_arcsec = source_size_pc / 10**6 / D_s / constants.arcsec\n",
    "\n",
    "    # multiple images properties\n",
    "    ximg = np.zeros(system[\"nimgs\"])\n",
    "    yimg = np.zeros(system[\"nimgs\"])\n",
    "    t_days = np.zeros(system[\"nimgs\"])\n",
    "    image_amps = np.zeros(system[\"nimgs\"])\n",
    "    for jj in range(system[\"nimgs\"]):\n",
    "        ximg[jj] = system[\"ximg\"][jj]        #[arcsec]\n",
    "        yimg[jj] = system[\"yimg\"][jj]        #[arcsec]\n",
    "        t_days[jj] = system[\"delay\"][jj]      #[days]\n",
    "        image_amps[jj] = system[\"mags\"][jj]  #[linear units or magnitudes]\n",
    "    # sort by arrival time\n",
    "    index_sort = np.argsort(t_days)\n",
    "    ximg = ximg[index_sort]  # relative RA (arc seconds)\n",
    "    yimg = yimg[index_sort]  # relative DEC (arc seconds)\n",
    "    image_amps = np.abs(image_amps[index_sort])\n",
    "    t_days = t_days[index_sort]\n",
    "    d_dt = t_days[1:] - t_days[0]\n",
    "    \n",
    "    # measurement uncertainties\n",
    "    astrometry_sigma = args[\"astrometry_sigma\"]\n",
    "    ximg_measured = ximg + np.random.normal(\n",
    "        0,astrometry_sigma, system[\"nimgs\"])\n",
    "    yimg_measured = yimg + np.random.normal(\n",
    "        0, astrometry_sigma, system[\"nimgs\"])\n",
    "    image_amps_sigma = np.ones(system[\"nimgs\"]) * args[\"image_amps_sigma\"]\n",
    "    flux_ratios = image_amps[1:] - image_amps[0]\n",
    "    flux_ratio_errors = np.ones(system[\"nimgs\"] - 1) * args[\"flux_ratio_errors\"]\n",
    "    flux_ratios_measured = flux_ratios + np.random.normal(0, flux_ratio_errors)\n",
    "    d_dt_sigma = np.ones(system[\"nimgs\"] - 1) * args[\"dt_sigma\"]\n",
    "    d_dt_measured = d_dt + np.random.normal(0, d_dt_sigma)\n",
    "    \n",
    "    kwargs_data_joint = {\n",
    "        'time_delays_measured': d_dt_measured,\n",
    "        'time_delays_uncertainties': d_dt_sigma,\n",
    "        'flux_ratios': flux_ratios_measured, \n",
    "        'flux_ratio_errors': flux_ratio_errors,\n",
    "        'ra_image_list': [ximg_measured],\n",
    "        'dec_image_list': [yimg_measured],\n",
    "    }"
   ]
  },
  {
   "cell_type": "markdown",
   "metadata": {},
   "source": [
    "## Model settings\n",
    "Here we set up the modeling (initial guess of the parameters, uncertainties and lower and upper bounds. In this example, we chose the same lens model as we produced the mock data and thus expect a perfect fit.\n",
    "This part is equal to the imaging simulation of lenstronomy. We refer to other notebooks and the documentation for more details."
   ]
  },
  {
   "cell_type": "code",
   "execution_count": 5,
   "metadata": {},
   "outputs": [],
   "source": [
    "# ==================\n",
    "# lens model choices\n",
    "# ==================\n",
    "lens_model_list = ['SPEMD', 'SHEAR_GAMMA_PSI']\n",
    "\n",
    "fixed_lens = []\n",
    "kwargs_lens_init = []\n",
    "kwargs_lens_sigma = []\n",
    "kwargs_lower_lens = []\n",
    "kwargs_upper_lens = []\n",
    "\n",
    "\n",
    "# SPEMD parameters\n",
    "fixed_lens.append({}) \n",
    "# initial parameter guess\n",
    "#kwargs_lens_init.append(kwargs_lens[0])\n",
    "kwargs_lens_init.append({'theta_E': 1., 'gamma': 2, 'center_x': 0, 'center_y': 0, 'e1': 0, 'e2': 0.})\n",
    "# initial particle clowd\n",
    "kwargs_lens_sigma.append({'theta_E': .1, 'e1': 0.1, 'e2': 0.1, 'gamma': 0.1, 'center_x': 0.1, 'center_y': 0.1})\n",
    "# hard bound lower limit of parameters\n",
    "kwargs_lower_lens.append({'theta_E': 0.01, 'e1': -0.5, 'e2': -0.5, 'gamma': 1.5, 'center_x': -10, 'center_y': -10})\n",
    "# hard bound upper limit of parameters\n",
    "kwargs_upper_lens.append({'theta_E': 10, 'e1': 0.5, 'e2': 0.5, 'gamma': 2.5, 'center_x': 10, 'center_y': 10})\n",
    "\n",
    "# SHEAR parameters\n",
    "# we keep the center of shear definition fixed at (0,0)\n",
    "fixed_lens.append({'ra_0': 0, 'dec_0': 0})\n",
    "#kwargs_lens_init.append(kwargs_lens[1])\n",
    "kwargs_lens_init.append({'gamma_ext': 0.05, 'psi_ext': 0.0})\n",
    "kwargs_lens_sigma.append({'gamma_ext': 0.05, 'psi_ext': np.pi})\n",
    "kwargs_lower_lens.append({'gamma_ext': 0, 'psi_ext': -np.pi})\n",
    "kwargs_upper_lens.append({'gamma_ext': 0.3, 'psi_ext': np.pi})\n",
    "\n",
    "# combine all parameter options for lenstronomy\n",
    "lens_params = [kwargs_lens_init, kwargs_lens_sigma, fixed_lens, kwargs_lower_lens, kwargs_upper_lens]\n",
    "\n",
    "\n",
    "# =========================\n",
    "# image position parameters\n",
    "# =========================\n",
    "\n",
    "# we chose to model the image positions in the lensed plane (we know where they appear)\n",
    "point_source_list = ['LENSED_POSITION']\n",
    "# We fix the image position coordinates.\n",
    "fixed_ps = [{}]  # we fix the image position coordinates\n",
    "# these lines below actually don't matter when you keep the image position fixed\n",
    "kwargs_ps_init = [{'ra_image': ximg_measured, 'dec_image': yimg_measured}] # the initial guess for the appearing image positions is: at the image position.\n",
    "kwargs_ps_sigma = [{'ra_image': 0.01 * np.ones(len(ximg)), 'dec_image': 0.01 * np.ones(len(ximg))}]\n",
    "kwargs_lower_ps = [{'ra_image': -10 * np.ones(len(ximg)), 'dec_image': -10 * np.ones(len(ximg))}]\n",
    "kwargs_upper_ps = [{'ra_image': 10* np.ones(len(ximg)), 'dec_image': 10 * np.ones(len(ximg))}]\n",
    "\n",
    "# combine all parameter options for lenstronomy\n",
    "ps_params = [kwargs_ps_init, kwargs_ps_sigma, fixed_ps, kwargs_lower_ps, kwargs_upper_ps]\n",
    "\n",
    "\n",
    "fixed_special = {}\n",
    "kwargs_special_init = {}\n",
    "kwargs_special_sigma = {}\n",
    "kwargs_lower_special = {}\n",
    "kwargs_upper_special = {}\n",
    "\n",
    "# =========================\n",
    "# astrometric perturbations\n",
    "# =========================\n",
    "\n",
    "# astrometric perturbations are modeled in lenstronomt with 'delta_x_image' and 'delta_y_image'.\n",
    "# These perturbations place the 'actual' point source at the difference to 'ra_image'.\n",
    "# we let some freedome in how well the actual image positions are matching those given by the data (indicated as 'ra_image', 'dec_image' and held fixed while fitting)\n",
    "\n",
    "#kwargs_special_init['delta_x_image'], kwargs_special_init['delta_y_image'] = np.zeros_like(ximg), np.zeros_like(yimg)\n",
    "#kwargs_special_sigma['delta_x_image'], kwargs_special_sigma['delta_y_image'] = np.ones_like(ximg) * astrometry_sigma, np.ones_like(yimg) * astrometry_sigma\n",
    "#kwargs_lower_special['delta_x_image'], kwargs_lower_special['delta_y_image'] = np.ones_like(ximg) * (-1), np.ones_like(yimg) * (-1)\n",
    "#kwargs_upper_special['delta_x_image'], kwargs_upper_special['delta_y_image'] = np.ones_like(ximg) * (1), np.ones_like(yimg) * (1)\n",
    "\n",
    "# ==================\n",
    "# quasar source size\n",
    "# ==================\n",
    "\n",
    "# If you want to keep the source size fixed during the fitting, outcomment the line below.\n",
    "fixed_special['source_size'] = source_size_arcsec\n",
    "kwargs_special_init['source_size'] = source_size_arcsec\n",
    "kwargs_special_sigma['source_size'] = source_size_arcsec\n",
    "kwargs_lower_special['source_size'] = 0.0001\n",
    "kwargs_upper_special['source_size'] = 1\n",
    "\n",
    "# ===================\n",
    "# Time-delay distance\n",
    "# ===================\n",
    "\n",
    "# with time-delay information, we can measure the time-delay distance (units physical Mpc)\n",
    "\n",
    "# if you want to fix the cosmology and instead use the time-delay\n",
    "# information to constrain the lens model, out-comment the line below\n",
    "#fixed_special['D_dt'] = lensCosmo.D_dt\n",
    "kwargs_special_init['D_dt'] = 5000\n",
    "kwargs_special_sigma['D_dt'] = 3000\n",
    "kwargs_lower_special['D_dt'] = 0\n",
    "kwargs_upper_special['D_dt'] = 10000\n",
    "\n",
    "special_params = [\n",
    "    kwargs_special_init,\n",
    "    kwargs_special_sigma,\n",
    "    fixed_special,\n",
    "    kwargs_lower_special,\n",
    "    kwargs_upper_special,\n",
    "]\n",
    "\n",
    "# combined parameter settings\n",
    "kwargs_params = {\n",
    "    'lens_model': lens_params,\n",
    "    'point_source_model': ps_params,\n",
    "    'special': special_params,\n",
    "}\n",
    "\n",
    "# our model choices\n",
    "kwargs_model = {\n",
    "    'lens_model_list': lens_model_list, \n",
    "    'point_source_model_list': point_source_list,\n",
    "}"
   ]
  },
  {
   "cell_type": "code",
   "execution_count": 6,
   "metadata": {},
   "outputs": [
    {
     "data": {
      "text/plain": [
       "{'lens_model_list': ['SPEMD', 'SHEAR_GAMMA_PSI'],\n",
       " 'point_source_model_list': ['LENSED_POSITION']}"
      ]
     },
     "execution_count": 6,
     "metadata": {},
     "output_type": "execute_result"
    }
   ],
   "source": [
    "kwargs_model"
   ]
  },
  {
   "cell_type": "markdown",
   "metadata": {},
   "source": [
    "## setup options for likelihood and parameter sampling\n",
    "In $\\texttt{lenstronomy}$ the likelihood settings (which likelihood gets evaluated) and the parameter sampling options (which parameters get sampled) are separated. It is upon the user to decide the appropriate parameters to be sampled for the given choice of likelihoods."
   ]
  },
  {
   "cell_type": "code",
   "execution_count": 7,
   "metadata": {},
   "outputs": [],
   "source": [
    "time_delay_likelihood = True  # bool, set this True or False depending on whether time-delay information is available and you want to make use of its information content.\n",
    "flux_ratio_likelihood = True  # bool, modeling the flux ratios of the images\n",
    "image_position_likelihood = True  # bool, evaluating the image position likelihood (in combination with astrometric errors)\n",
    "\n",
    "kwargs_flux_compute = {'source_type': 'INF',  # you can either chose 'INF' which is a infinetesimal source sice, 'GAUSSIAN' or 'TORUS'\n",
    "                       'window_size': window_size, # window size to compute the finite source magnification (only when 'GAUSSIAN' or 'TORUS' are chosen.)\n",
    "                       'grid_number': grid_number}  # number of grid points (per axis) to compute the extended source surface brightness within the window_size around the image position\n",
    "# ATTENTION: make sure that the numerical options are chosen to provide accurate computations for the finite source magnifications!\n",
    "\n",
    "\n",
    "kwargs_constraints = {'num_point_source_list': [len(ximg)],  \n",
    "                      'solver_type': 'PROFILE_SHEAR',  # 'PROFILE_SHEAR', 'NONE', # any proposed lens model must satisfy the image positions appearing at the position of the point sources being sampeld\n",
    "                      'Ddt_sampling': time_delay_likelihood,  # sampling of the time-delay distance                      \n",
    "                     }\n",
    "if kwargs_flux_compute['source_type'] in ['GAUSSIAN', 'TORUS'] and flux_ratio_likelihood is True:\n",
    "    kwargs_constraints['source_size'] = True  # explicit sampling of finite source size parameter (only use when source_type='GAUSSIAN' or 'TORUS') \n",
    "\n",
    "    \n",
    "# we can define un-correlated Gaussian priors on specific parameters explicitly\n",
    "\n",
    "# e.g. power-law mass slope of the main deflector\n",
    "prior_lens = [[0, 'gamma', 2, 0.1]] # [[index_model, 'param_name', mean, 1-sigma error], [...], ...]\n",
    "# e.g. source size of the emission region\n",
    "#prior_special = [['source_size', source_size_arcsec, 0.01]]\n",
    "prior_special = []\n",
    "    \n",
    "kwargs_likelihood = {  \n",
    "    'position_uncertainty': astrometry_sigma,  # astrometric uncertainty of image positions\n",
    "    'source_position_likelihood': True,  # evaluates how close the different image positions match the source positons\n",
    "    'image_position_likelihood': True, # evaluate point source likelihood given the measured image positions\n",
    "    'time_delay_likelihood': time_delay_likelihood,  # evaluating the time-delay likelihood\n",
    "    'flux_ratio_likelihood': flux_ratio_likelihood,  # enables the flux ratio likelihood \n",
    "    'kwargs_flux_compute': kwargs_flux_compute,  # source_type='INF' will lead to point source\n",
    "    'prior_lens': prior_lens,\n",
    "    'prior_special': prior_special,\n",
    "    'check_solver': True, # check non-linear solver and disgard non-solutions\n",
    "    'solver_tolerance': 0.001,\n",
    "    'check_bounds': True,  # check parameter bounds and punish them\n",
    "    }\n"
   ]
  },
  {
   "cell_type": "markdown",
   "metadata": {},
   "source": [
    "## Run the modeling - Particle Swarm Optimization to find a maxima in the likelihood"
   ]
  },
  {
   "cell_type": "code",
   "execution_count": 8,
   "metadata": {},
   "outputs": [
    {
     "name": "stdout",
     "output_type": "stream",
     "text": [
      "module fastell4py not installed. You can get it from here: https://github.com/sibirrer/fastell4py\n",
      "module fastell4py not installed. You can get it from here: https://github.com/sibirrer/fastell4py\n",
      "module fastell4py not installed. You can get it from here: https://github.com/sibirrer/fastell4py\n",
      "module fastell4py not installed. You can get it from here: https://github.com/sibirrer/fastell4py\n",
      "module fastell4py not installed. You can get it from here: https://github.com/sibirrer/fastell4py\n",
      "Computing the PSO ...\n"
     ]
    },
    {
     "name": "stderr",
     "output_type": "stream",
     "text": [
      "/cosma/home/dp004/dc-beck3/.local/lib/python3.6/site-packages/scipy/optimize/minpack.py:163: RuntimeWarning: The iteration is not making good progress, as measured by the \n",
      "  improvement from the last ten iterations.\n",
      "  warnings.warn(msg, RuntimeWarning)\n",
      "/cosma/home/dp004/dc-beck3/.local/lib/python3.6/site-packages/scipy/optimize/minpack.py:163: RuntimeWarning: The iteration is not making good progress, as measured by the \n",
      "  improvement from the last five Jacobian evaluations.\n",
      "  warnings.warn(msg, RuntimeWarning)\n"
     ]
    },
    {
     "name": "stdout",
     "output_type": "stream",
     "text": [
      "10\n"
     ]
    },
    {
     "ename": "KeyboardInterrupt",
     "evalue": "",
     "output_type": "error",
     "traceback": [
      "\u001b[0;31m---------------------------------------------------------------------------\u001b[0m",
      "\u001b[0;31mKeyboardInterrupt\u001b[0m                         Traceback (most recent call last)",
      "\u001b[0;32m<ipython-input-8-cb5cf12e756a>\u001b[0m in \u001b[0;36m<module>\u001b[0;34m()\u001b[0m\n\u001b[1;32m     10\u001b[0m \u001b[0;34m\u001b[0m\u001b[0m\n\u001b[1;32m     11\u001b[0m \u001b[0mstart_time\u001b[0m \u001b[0;34m=\u001b[0m \u001b[0mtime\u001b[0m\u001b[0;34m.\u001b[0m\u001b[0mtime\u001b[0m\u001b[0;34m(\u001b[0m\u001b[0;34m)\u001b[0m\u001b[0;34m\u001b[0m\u001b[0m\n\u001b[0;32m---> 12\u001b[0;31m \u001b[0mchain_list_pso\u001b[0m \u001b[0;34m=\u001b[0m \u001b[0mfitting_seq\u001b[0m\u001b[0;34m.\u001b[0m\u001b[0mfit_sequence\u001b[0m\u001b[0;34m(\u001b[0m\u001b[0mfitting_kwargs_list\u001b[0m\u001b[0;34m)\u001b[0m\u001b[0;34m\u001b[0m\u001b[0m\n\u001b[0m\u001b[1;32m     13\u001b[0m \u001b[0mkwargs_result\u001b[0m \u001b[0;34m=\u001b[0m \u001b[0mfitting_seq\u001b[0m\u001b[0;34m.\u001b[0m\u001b[0mbest_fit\u001b[0m\u001b[0;34m(\u001b[0m\u001b[0;34m)\u001b[0m\u001b[0;34m\u001b[0m\u001b[0m\n\u001b[1;32m     14\u001b[0m \u001b[0mend_time\u001b[0m \u001b[0;34m=\u001b[0m \u001b[0mtime\u001b[0m\u001b[0;34m.\u001b[0m\u001b[0mtime\u001b[0m\u001b[0;34m(\u001b[0m\u001b[0;34m)\u001b[0m\u001b[0;34m\u001b[0m\u001b[0m\n",
      "\u001b[0;32m~/.local/lib/python3.6/site-packages/lenstronomy/Workflow/fitting_sequence.py\u001b[0m in \u001b[0;36mfit_sequence\u001b[0;34m(self, fitting_list)\u001b[0m\n\u001b[1;32m     76\u001b[0m \u001b[0;34m\u001b[0m\u001b[0m\n\u001b[1;32m     77\u001b[0m             \u001b[0;32melif\u001b[0m \u001b[0mfitting_type\u001b[0m \u001b[0;34m==\u001b[0m \u001b[0;34m'PSO'\u001b[0m\u001b[0;34m:\u001b[0m\u001b[0;34m\u001b[0m\u001b[0m\n\u001b[0;32m---> 78\u001b[0;31m                 \u001b[0mkwargs_result\u001b[0m\u001b[0;34m,\u001b[0m \u001b[0mchain\u001b[0m\u001b[0;34m,\u001b[0m \u001b[0mparam\u001b[0m \u001b[0;34m=\u001b[0m \u001b[0mself\u001b[0m\u001b[0;34m.\u001b[0m\u001b[0mpso\u001b[0m\u001b[0;34m(\u001b[0m\u001b[0;34m**\u001b[0m\u001b[0mkwargs\u001b[0m\u001b[0;34m)\u001b[0m\u001b[0;34m\u001b[0m\u001b[0m\n\u001b[0m\u001b[1;32m     79\u001b[0m                 \u001b[0mself\u001b[0m\u001b[0;34m.\u001b[0m\u001b[0m_updateManager\u001b[0m\u001b[0;34m.\u001b[0m\u001b[0mupdate_param_state\u001b[0m\u001b[0;34m(\u001b[0m\u001b[0;34m**\u001b[0m\u001b[0mkwargs_result\u001b[0m\u001b[0;34m)\u001b[0m\u001b[0;34m\u001b[0m\u001b[0m\n\u001b[1;32m     80\u001b[0m                 \u001b[0mchain_list\u001b[0m\u001b[0;34m.\u001b[0m\u001b[0mappend\u001b[0m\u001b[0;34m(\u001b[0m\u001b[0;34m[\u001b[0m\u001b[0mfitting_type\u001b[0m\u001b[0;34m,\u001b[0m \u001b[0mchain\u001b[0m\u001b[0;34m,\u001b[0m \u001b[0mparam\u001b[0m\u001b[0;34m]\u001b[0m\u001b[0;34m)\u001b[0m\u001b[0;34m\u001b[0m\u001b[0m\n",
      "\u001b[0;32m~/.local/lib/python3.6/site-packages/lenstronomy/Workflow/fitting_sequence.py\u001b[0m in \u001b[0;36mpso\u001b[0;34m(self, n_particles, n_iterations, sigma_scale, print_key, threadCount)\u001b[0m\n\u001b[1;32m    234\u001b[0m         \u001b[0msampler\u001b[0m \u001b[0;34m=\u001b[0m \u001b[0mSampler\u001b[0m\u001b[0;34m(\u001b[0m\u001b[0mlikelihoodModule\u001b[0m\u001b[0;34m=\u001b[0m\u001b[0mself\u001b[0m\u001b[0;34m.\u001b[0m\u001b[0mlikelihoodModule\u001b[0m\u001b[0;34m)\u001b[0m\u001b[0;34m\u001b[0m\u001b[0m\n\u001b[1;32m    235\u001b[0m         result, chain = sampler.pso(n_particles, n_iterations, lowerLimit, upperLimit, init_pos=init_pos,\n\u001b[0;32m--> 236\u001b[0;31m                                        threadCount=threadCount, mpi=self._mpi, print_key=print_key)\n\u001b[0m\u001b[1;32m    237\u001b[0m         \u001b[0mkwargs_result\u001b[0m \u001b[0;34m=\u001b[0m \u001b[0mparam_class\u001b[0m\u001b[0;34m.\u001b[0m\u001b[0margs2kwargs\u001b[0m\u001b[0;34m(\u001b[0m\u001b[0mresult\u001b[0m\u001b[0;34m,\u001b[0m \u001b[0mbijective\u001b[0m\u001b[0;34m=\u001b[0m\u001b[0;32mTrue\u001b[0m\u001b[0;34m)\u001b[0m\u001b[0;34m\u001b[0m\u001b[0m\n\u001b[1;32m    238\u001b[0m         \u001b[0;32mreturn\u001b[0m \u001b[0mkwargs_result\u001b[0m\u001b[0;34m,\u001b[0m \u001b[0mchain\u001b[0m\u001b[0;34m,\u001b[0m \u001b[0mparam_list\u001b[0m\u001b[0;34m\u001b[0m\u001b[0m\n",
      "\u001b[0;32m~/.local/lib/python3.6/site-packages/lenstronomy/Sampling/sampler.py\u001b[0m in \u001b[0;36mpso\u001b[0;34m(self, n_particles, n_iterations, lower_start, upper_start, threadCount, init_pos, mpi, print_key)\u001b[0m\n\u001b[1;32m     65\u001b[0m             \u001b[0mprint\u001b[0m\u001b[0;34m(\u001b[0m\u001b[0;34m'Computing the %s ...'\u001b[0m \u001b[0;34m%\u001b[0m \u001b[0mprint_key\u001b[0m\u001b[0;34m)\u001b[0m\u001b[0;34m\u001b[0m\u001b[0m\n\u001b[1;32m     66\u001b[0m         \u001b[0mnum_iter\u001b[0m \u001b[0;34m=\u001b[0m \u001b[0;36m0\u001b[0m\u001b[0;34m\u001b[0m\u001b[0m\n\u001b[0;32m---> 67\u001b[0;31m         \u001b[0;32mfor\u001b[0m \u001b[0mswarm\u001b[0m \u001b[0;32min\u001b[0m \u001b[0mpso\u001b[0m\u001b[0;34m.\u001b[0m\u001b[0msample\u001b[0m\u001b[0;34m(\u001b[0m\u001b[0mn_iterations\u001b[0m\u001b[0;34m)\u001b[0m\u001b[0;34m:\u001b[0m\u001b[0;34m\u001b[0m\u001b[0m\n\u001b[0m\u001b[1;32m     68\u001b[0m             \u001b[0mX2_list\u001b[0m\u001b[0;34m.\u001b[0m\u001b[0mappend\u001b[0m\u001b[0;34m(\u001b[0m\u001b[0mpso\u001b[0m\u001b[0;34m.\u001b[0m\u001b[0mgbest\u001b[0m\u001b[0;34m.\u001b[0m\u001b[0mfitness\u001b[0m\u001b[0;34m*\u001b[0m\u001b[0;36m2\u001b[0m\u001b[0;34m)\u001b[0m\u001b[0;34m\u001b[0m\u001b[0m\n\u001b[1;32m     69\u001b[0m             \u001b[0mvel_list\u001b[0m\u001b[0;34m.\u001b[0m\u001b[0mappend\u001b[0m\u001b[0;34m(\u001b[0m\u001b[0mpso\u001b[0m\u001b[0;34m.\u001b[0m\u001b[0mgbest\u001b[0m\u001b[0;34m.\u001b[0m\u001b[0mvelocity\u001b[0m\u001b[0;34m)\u001b[0m\u001b[0;34m\u001b[0m\u001b[0m\n",
      "\u001b[0;32m~/.local/lib/python3.6/site-packages/cosmoHammer/pso/ParticleSwarmOptimizer.py\u001b[0m in \u001b[0;36msample\u001b[0;34m(self, maxIter, c1, c2, p, m, n)\u001b[0m\n\u001b[1;32m    112\u001b[0m                 \u001b[0mparticle\u001b[0m\u001b[0;34m.\u001b[0m\u001b[0mposition\u001b[0m \u001b[0;34m=\u001b[0m \u001b[0mparticle\u001b[0m\u001b[0;34m.\u001b[0m\u001b[0mposition\u001b[0m \u001b[0;34m+\u001b[0m \u001b[0mparticle\u001b[0m\u001b[0;34m.\u001b[0m\u001b[0mvelocity\u001b[0m\u001b[0;34m\u001b[0m\u001b[0m\n\u001b[1;32m    113\u001b[0m \u001b[0;34m\u001b[0m\u001b[0m\n\u001b[0;32m--> 114\u001b[0;31m             \u001b[0mself\u001b[0m\u001b[0;34m.\u001b[0m\u001b[0m_get_fitness\u001b[0m\u001b[0;34m(\u001b[0m\u001b[0mself\u001b[0m\u001b[0;34m.\u001b[0m\u001b[0mswarm\u001b[0m\u001b[0;34m)\u001b[0m\u001b[0;34m\u001b[0m\u001b[0m\n\u001b[0m\u001b[1;32m    115\u001b[0m \u001b[0;34m\u001b[0m\u001b[0m\n\u001b[1;32m    116\u001b[0m             \u001b[0mswarm\u001b[0m \u001b[0;34m=\u001b[0m \u001b[0;34m[\u001b[0m\u001b[0;34m]\u001b[0m\u001b[0;34m\u001b[0m\u001b[0m\n",
      "\u001b[0;32m~/.local/lib/python3.6/site-packages/cosmoHammer/pso/ParticleSwarmOptimizer.py\u001b[0m in \u001b[0;36m_get_fitness\u001b[0;34m(self, swarm)\u001b[0m\n\u001b[1;32m    155\u001b[0m         \u001b[0mpos\u001b[0m \u001b[0;34m=\u001b[0m \u001b[0mnumpy\u001b[0m\u001b[0;34m.\u001b[0m\u001b[0marray\u001b[0m\u001b[0;34m(\u001b[0m\u001b[0;34m[\u001b[0m\u001b[0mpart\u001b[0m\u001b[0;34m.\u001b[0m\u001b[0mposition\u001b[0m \u001b[0;32mfor\u001b[0m \u001b[0mpart\u001b[0m \u001b[0;32min\u001b[0m \u001b[0mswarm\u001b[0m\u001b[0;34m]\u001b[0m\u001b[0;34m)\u001b[0m\u001b[0;34m\u001b[0m\u001b[0m\n\u001b[1;32m    156\u001b[0m         \u001b[0mresults\u001b[0m \u001b[0;34m=\u001b[0m  \u001b[0mmapFunction\u001b[0m\u001b[0;34m(\u001b[0m\u001b[0mself\u001b[0m\u001b[0;34m.\u001b[0m\u001b[0mfunc\u001b[0m\u001b[0;34m,\u001b[0m \u001b[0mpos\u001b[0m\u001b[0;34m)\u001b[0m\u001b[0;34m\u001b[0m\u001b[0m\n\u001b[0;32m--> 157\u001b[0;31m         \u001b[0mlnprob\u001b[0m \u001b[0;34m=\u001b[0m \u001b[0mnumpy\u001b[0m\u001b[0;34m.\u001b[0m\u001b[0marray\u001b[0m\u001b[0;34m(\u001b[0m\u001b[0;34m[\u001b[0m\u001b[0ml\u001b[0m\u001b[0;34m[\u001b[0m\u001b[0;36m0\u001b[0m\u001b[0;34m]\u001b[0m \u001b[0;32mfor\u001b[0m \u001b[0ml\u001b[0m \u001b[0;32min\u001b[0m \u001b[0mresults\u001b[0m\u001b[0;34m]\u001b[0m\u001b[0;34m)\u001b[0m\u001b[0;34m\u001b[0m\u001b[0m\n\u001b[0m\u001b[1;32m    158\u001b[0m         \u001b[0;32mfor\u001b[0m \u001b[0mi\u001b[0m\u001b[0;34m,\u001b[0m \u001b[0mparticle\u001b[0m \u001b[0;32min\u001b[0m \u001b[0menumerate\u001b[0m\u001b[0;34m(\u001b[0m\u001b[0mswarm\u001b[0m\u001b[0;34m)\u001b[0m\u001b[0;34m:\u001b[0m\u001b[0;34m\u001b[0m\u001b[0m\n\u001b[1;32m    159\u001b[0m             \u001b[0mparticle\u001b[0m\u001b[0;34m.\u001b[0m\u001b[0mfitness\u001b[0m \u001b[0;34m=\u001b[0m \u001b[0mlnprob\u001b[0m\u001b[0;34m[\u001b[0m\u001b[0mi\u001b[0m\u001b[0;34m]\u001b[0m\u001b[0;34m\u001b[0m\u001b[0m\n",
      "\u001b[0;32m~/.local/lib/python3.6/site-packages/cosmoHammer/pso/ParticleSwarmOptimizer.py\u001b[0m in \u001b[0;36m<listcomp>\u001b[0;34m(.0)\u001b[0m\n\u001b[1;32m    155\u001b[0m         \u001b[0mpos\u001b[0m \u001b[0;34m=\u001b[0m \u001b[0mnumpy\u001b[0m\u001b[0;34m.\u001b[0m\u001b[0marray\u001b[0m\u001b[0;34m(\u001b[0m\u001b[0;34m[\u001b[0m\u001b[0mpart\u001b[0m\u001b[0;34m.\u001b[0m\u001b[0mposition\u001b[0m \u001b[0;32mfor\u001b[0m \u001b[0mpart\u001b[0m \u001b[0;32min\u001b[0m \u001b[0mswarm\u001b[0m\u001b[0;34m]\u001b[0m\u001b[0;34m)\u001b[0m\u001b[0;34m\u001b[0m\u001b[0m\n\u001b[1;32m    156\u001b[0m         \u001b[0mresults\u001b[0m \u001b[0;34m=\u001b[0m  \u001b[0mmapFunction\u001b[0m\u001b[0;34m(\u001b[0m\u001b[0mself\u001b[0m\u001b[0;34m.\u001b[0m\u001b[0mfunc\u001b[0m\u001b[0;34m,\u001b[0m \u001b[0mpos\u001b[0m\u001b[0;34m)\u001b[0m\u001b[0;34m\u001b[0m\u001b[0m\n\u001b[0;32m--> 157\u001b[0;31m         \u001b[0mlnprob\u001b[0m \u001b[0;34m=\u001b[0m \u001b[0mnumpy\u001b[0m\u001b[0;34m.\u001b[0m\u001b[0marray\u001b[0m\u001b[0;34m(\u001b[0m\u001b[0;34m[\u001b[0m\u001b[0ml\u001b[0m\u001b[0;34m[\u001b[0m\u001b[0;36m0\u001b[0m\u001b[0;34m]\u001b[0m \u001b[0;32mfor\u001b[0m \u001b[0ml\u001b[0m \u001b[0;32min\u001b[0m \u001b[0mresults\u001b[0m\u001b[0;34m]\u001b[0m\u001b[0;34m)\u001b[0m\u001b[0;34m\u001b[0m\u001b[0m\n\u001b[0m\u001b[1;32m    158\u001b[0m         \u001b[0;32mfor\u001b[0m \u001b[0mi\u001b[0m\u001b[0;34m,\u001b[0m \u001b[0mparticle\u001b[0m \u001b[0;32min\u001b[0m \u001b[0menumerate\u001b[0m\u001b[0;34m(\u001b[0m\u001b[0mswarm\u001b[0m\u001b[0;34m)\u001b[0m\u001b[0;34m:\u001b[0m\u001b[0;34m\u001b[0m\u001b[0m\n\u001b[1;32m    159\u001b[0m             \u001b[0mparticle\u001b[0m\u001b[0;34m.\u001b[0m\u001b[0mfitness\u001b[0m \u001b[0;34m=\u001b[0m \u001b[0mlnprob\u001b[0m\u001b[0;34m[\u001b[0m\u001b[0mi\u001b[0m\u001b[0;34m]\u001b[0m\u001b[0;34m\u001b[0m\u001b[0m\n",
      "\u001b[0;32m~/.local/lib/python3.6/site-packages/lenstronomy/Sampling/likelihood.py\u001b[0m in \u001b[0;36m__call__\u001b[0;34m(self, a)\u001b[0m\n\u001b[1;32m    232\u001b[0m \u001b[0;34m\u001b[0m\u001b[0m\n\u001b[1;32m    233\u001b[0m     \u001b[0;32mdef\u001b[0m \u001b[0m__call__\u001b[0m\u001b[0;34m(\u001b[0m\u001b[0mself\u001b[0m\u001b[0;34m,\u001b[0m \u001b[0ma\u001b[0m\u001b[0;34m)\u001b[0m\u001b[0;34m:\u001b[0m\u001b[0;34m\u001b[0m\u001b[0m\n\u001b[0;32m--> 234\u001b[0;31m         \u001b[0;32mreturn\u001b[0m \u001b[0mself\u001b[0m\u001b[0;34m.\u001b[0m\u001b[0mlogL\u001b[0m\u001b[0;34m(\u001b[0m\u001b[0ma\u001b[0m\u001b[0;34m)\u001b[0m\u001b[0;34m\u001b[0m\u001b[0m\n\u001b[0m\u001b[1;32m    235\u001b[0m \u001b[0;34m\u001b[0m\u001b[0m\n\u001b[1;32m    236\u001b[0m     \u001b[0;32mdef\u001b[0m \u001b[0mlikelihood\u001b[0m\u001b[0;34m(\u001b[0m\u001b[0mself\u001b[0m\u001b[0;34m,\u001b[0m \u001b[0ma\u001b[0m\u001b[0;34m)\u001b[0m\u001b[0;34m:\u001b[0m\u001b[0;34m\u001b[0m\u001b[0m\n",
      "\u001b[0;32m~/.local/lib/python3.6/site-packages/lenstronomy/Sampling/likelihood.py\u001b[0m in \u001b[0;36mlogL\u001b[0;34m(self, args, verbose)\u001b[0m\n\u001b[1;32m    131\u001b[0m         \"\"\"\n\u001b[1;32m    132\u001b[0m         \u001b[0;31m#extract parameters\u001b[0m\u001b[0;34m\u001b[0m\u001b[0;34m\u001b[0m\u001b[0m\n\u001b[0;32m--> 133\u001b[0;31m         \u001b[0mkwargs_return\u001b[0m \u001b[0;34m=\u001b[0m \u001b[0mself\u001b[0m\u001b[0;34m.\u001b[0m\u001b[0mparam\u001b[0m\u001b[0;34m.\u001b[0m\u001b[0margs2kwargs\u001b[0m\u001b[0;34m(\u001b[0m\u001b[0margs\u001b[0m\u001b[0;34m)\u001b[0m\u001b[0;34m\u001b[0m\u001b[0m\n\u001b[0m\u001b[1;32m    134\u001b[0m         \u001b[0;32mif\u001b[0m \u001b[0mself\u001b[0m\u001b[0;34m.\u001b[0m\u001b[0m_check_bounds\u001b[0m \u001b[0;32mis\u001b[0m \u001b[0;32mTrue\u001b[0m\u001b[0;34m:\u001b[0m\u001b[0;34m\u001b[0m\u001b[0m\n\u001b[1;32m    135\u001b[0m             \u001b[0mpenalty\u001b[0m\u001b[0;34m,\u001b[0m \u001b[0mbound_hit\u001b[0m \u001b[0;34m=\u001b[0m \u001b[0mself\u001b[0m\u001b[0;34m.\u001b[0m\u001b[0mcheck_bounds\u001b[0m\u001b[0;34m(\u001b[0m\u001b[0margs\u001b[0m\u001b[0;34m,\u001b[0m \u001b[0mself\u001b[0m\u001b[0;34m.\u001b[0m\u001b[0m_lower_limit\u001b[0m\u001b[0;34m,\u001b[0m \u001b[0mself\u001b[0m\u001b[0;34m.\u001b[0m\u001b[0m_upper_limit\u001b[0m\u001b[0;34m,\u001b[0m \u001b[0mverbose\u001b[0m\u001b[0;34m=\u001b[0m\u001b[0mverbose\u001b[0m\u001b[0;34m)\u001b[0m\u001b[0;34m\u001b[0m\u001b[0m\n",
      "\u001b[0;32m~/.local/lib/python3.6/site-packages/lenstronomy/Sampling/parameters.py\u001b[0m in \u001b[0;36margs2kwargs\u001b[0;34m(self, args, bijective)\u001b[0m\n\u001b[1;32m    222\u001b[0m             \u001b[0mx_pos\u001b[0m\u001b[0;34m,\u001b[0m \u001b[0my_pos\u001b[0m \u001b[0;34m=\u001b[0m \u001b[0mkwargs_ps\u001b[0m\u001b[0;34m[\u001b[0m\u001b[0;36m0\u001b[0m\u001b[0;34m]\u001b[0m\u001b[0;34m[\u001b[0m\u001b[0;34m'ra_image'\u001b[0m\u001b[0;34m]\u001b[0m\u001b[0;34m,\u001b[0m \u001b[0mkwargs_ps\u001b[0m\u001b[0;34m[\u001b[0m\u001b[0;36m0\u001b[0m\u001b[0;34m]\u001b[0m\u001b[0;34m[\u001b[0m\u001b[0;34m'dec_image'\u001b[0m\u001b[0;34m]\u001b[0m\u001b[0;34m\u001b[0m\u001b[0m\n\u001b[1;32m    223\u001b[0m             \u001b[0;31m#x_pos, y_pos = self.real_image_positions(x_pos, y_pos, kwargs_special)\u001b[0m\u001b[0;34m\u001b[0m\u001b[0;34m\u001b[0m\u001b[0m\n\u001b[0;32m--> 224\u001b[0;31m             \u001b[0mkwargs_lens\u001b[0m \u001b[0;34m=\u001b[0m \u001b[0mself\u001b[0m\u001b[0;34m.\u001b[0m\u001b[0m_solver_module\u001b[0m\u001b[0;34m.\u001b[0m\u001b[0mupdate_solver\u001b[0m\u001b[0;34m(\u001b[0m\u001b[0mkwargs_lens\u001b[0m\u001b[0;34m,\u001b[0m \u001b[0mx_pos\u001b[0m\u001b[0;34m,\u001b[0m \u001b[0my_pos\u001b[0m\u001b[0;34m)\u001b[0m\u001b[0;34m\u001b[0m\u001b[0m\n\u001b[0m\u001b[1;32m    225\u001b[0m         \u001b[0;31m# update source joint with point source\u001b[0m\u001b[0;34m\u001b[0m\u001b[0;34m\u001b[0m\u001b[0m\n\u001b[1;32m    226\u001b[0m         kwargs_source = self._update_source_joint_with_point_source(kwargs_lens, kwargs_source, kwargs_ps, kwargs_special,\n",
      "\u001b[0;32m~/.local/lib/python3.6/site-packages/lenstronomy/LensModel/Solver/solver.py\u001b[0m in \u001b[0;36mupdate_solver\u001b[0;34m(self, kwargs_lens, x_pos, y_pos)\u001b[0m\n\u001b[1;32m     42\u001b[0m             raise ValueError(\"Point source number %s must be as specified by the solver with number of images %s\" %\n\u001b[1;32m     43\u001b[0m                              (len(x_pos), self._num_images))\n\u001b[0;32m---> 44\u001b[0;31m         \u001b[0mkwargs_lens\u001b[0m\u001b[0;34m,\u001b[0m \u001b[0mprecision\u001b[0m \u001b[0;34m=\u001b[0m \u001b[0mself\u001b[0m\u001b[0;34m.\u001b[0m\u001b[0mconstraint_lensmodel\u001b[0m\u001b[0;34m(\u001b[0m\u001b[0mx_pos\u001b[0m\u001b[0;34m,\u001b[0m \u001b[0my_pos\u001b[0m\u001b[0;34m,\u001b[0m \u001b[0mkwargs_lens\u001b[0m\u001b[0;34m)\u001b[0m\u001b[0;34m\u001b[0m\u001b[0m\n\u001b[0m\u001b[1;32m     45\u001b[0m         \u001b[0;32mreturn\u001b[0m \u001b[0mkwargs_lens\u001b[0m\u001b[0;34m\u001b[0m\u001b[0m\n\u001b[1;32m     46\u001b[0m \u001b[0;34m\u001b[0m\u001b[0m\n",
      "\u001b[0;32m~/.local/lib/python3.6/site-packages/lenstronomy/LensModel/Solver/solver.py\u001b[0m in \u001b[0;36mconstraint_lensmodel\u001b[0;34m(self, x_pos, y_pos, kwargs_list, xtol)\u001b[0m\n\u001b[1;32m     35\u001b[0m         \u001b[0;34m:\u001b[0m\u001b[0;32mreturn\u001b[0m\u001b[0;34m:\u001b[0m\u001b[0;34m\u001b[0m\u001b[0m\n\u001b[1;32m     36\u001b[0m         \"\"\"\n\u001b[0;32m---> 37\u001b[0;31m         \u001b[0;32mreturn\u001b[0m \u001b[0mself\u001b[0m\u001b[0;34m.\u001b[0m\u001b[0m_solver\u001b[0m\u001b[0;34m.\u001b[0m\u001b[0mconstraint_lensmodel\u001b[0m\u001b[0;34m(\u001b[0m\u001b[0mx_pos\u001b[0m\u001b[0;34m,\u001b[0m \u001b[0my_pos\u001b[0m\u001b[0;34m,\u001b[0m \u001b[0mkwargs_list\u001b[0m\u001b[0;34m,\u001b[0m \u001b[0mxtol\u001b[0m\u001b[0;34m=\u001b[0m\u001b[0mxtol\u001b[0m\u001b[0;34m)\u001b[0m\u001b[0;34m\u001b[0m\u001b[0m\n\u001b[0m\u001b[1;32m     38\u001b[0m \u001b[0;34m\u001b[0m\u001b[0m\n\u001b[1;32m     39\u001b[0m     \u001b[0;32mdef\u001b[0m \u001b[0mupdate_solver\u001b[0m\u001b[0;34m(\u001b[0m\u001b[0mself\u001b[0m\u001b[0;34m,\u001b[0m \u001b[0mkwargs_lens\u001b[0m\u001b[0;34m,\u001b[0m \u001b[0mx_pos\u001b[0m\u001b[0;34m,\u001b[0m \u001b[0my_pos\u001b[0m\u001b[0;34m)\u001b[0m\u001b[0;34m:\u001b[0m\u001b[0;34m\u001b[0m\u001b[0m\n",
      "\u001b[0;32m~/.local/lib/python3.6/site-packages/lenstronomy/LensModel/Solver/solver4point.py\u001b[0m in \u001b[0;36mconstraint_lensmodel\u001b[0;34m(self, x_pos, y_pos, kwargs_list, xtol)\u001b[0m\n\u001b[1;32m     57\u001b[0m             \u001b[0mx_sub\u001b[0m\u001b[0;34m,\u001b[0m \u001b[0my_sub\u001b[0m \u001b[0;34m=\u001b[0m \u001b[0mnp\u001b[0m\u001b[0;34m.\u001b[0m\u001b[0mzeros\u001b[0m\u001b[0;34m(\u001b[0m\u001b[0;36m4\u001b[0m\u001b[0;34m)\u001b[0m\u001b[0;34m,\u001b[0m \u001b[0mnp\u001b[0m\u001b[0;34m.\u001b[0m\u001b[0mzeros\u001b[0m\u001b[0;34m(\u001b[0m\u001b[0;36m4\u001b[0m\u001b[0;34m)\u001b[0m\u001b[0;34m\u001b[0m\u001b[0m\n\u001b[1;32m     58\u001b[0m         \u001b[0ma\u001b[0m \u001b[0;34m=\u001b[0m \u001b[0mself\u001b[0m\u001b[0;34m.\u001b[0m\u001b[0m_subtract_constraint\u001b[0m\u001b[0;34m(\u001b[0m\u001b[0mx_sub\u001b[0m\u001b[0;34m,\u001b[0m \u001b[0my_sub\u001b[0m\u001b[0;34m)\u001b[0m\u001b[0;34m\u001b[0m\u001b[0m\n\u001b[0;32m---> 59\u001b[0;31m         \u001b[0mx\u001b[0m \u001b[0;34m=\u001b[0m \u001b[0mself\u001b[0m\u001b[0;34m.\u001b[0m\u001b[0msolve\u001b[0m\u001b[0;34m(\u001b[0m\u001b[0mx_pos\u001b[0m\u001b[0;34m,\u001b[0m \u001b[0my_pos\u001b[0m\u001b[0;34m,\u001b[0m \u001b[0minit\u001b[0m\u001b[0;34m,\u001b[0m \u001b[0mkwargs\u001b[0m\u001b[0;34m,\u001b[0m \u001b[0ma\u001b[0m\u001b[0;34m,\u001b[0m \u001b[0mxtol\u001b[0m\u001b[0;34m)\u001b[0m\u001b[0;34m\u001b[0m\u001b[0m\n\u001b[0m\u001b[1;32m     60\u001b[0m         \u001b[0mkwargs\u001b[0m \u001b[0;34m=\u001b[0m \u001b[0mself\u001b[0m\u001b[0;34m.\u001b[0m\u001b[0m_update_kwargs\u001b[0m\u001b[0;34m(\u001b[0m\u001b[0mx\u001b[0m\u001b[0;34m,\u001b[0m \u001b[0mkwargs\u001b[0m\u001b[0;34m)\u001b[0m\u001b[0;34m\u001b[0m\u001b[0m\n\u001b[1;32m     61\u001b[0m         \u001b[0my_end\u001b[0m \u001b[0;34m=\u001b[0m \u001b[0mself\u001b[0m\u001b[0;34m.\u001b[0m\u001b[0m_F\u001b[0m\u001b[0;34m(\u001b[0m\u001b[0mx\u001b[0m\u001b[0;34m,\u001b[0m \u001b[0mx_pos\u001b[0m\u001b[0;34m,\u001b[0m \u001b[0my_pos\u001b[0m\u001b[0;34m,\u001b[0m \u001b[0mkwargs\u001b[0m\u001b[0;34m,\u001b[0m \u001b[0ma\u001b[0m\u001b[0;34m)\u001b[0m\u001b[0;34m\u001b[0m\u001b[0m\n",
      "\u001b[0;32m~/.local/lib/python3.6/site-packages/lenstronomy/LensModel/Solver/solver4point.py\u001b[0m in \u001b[0;36msolve\u001b[0;34m(self, x_pos, y_pos, init, kwargs_list, a, xtol)\u001b[0m\n\u001b[1;32m     64\u001b[0m \u001b[0;34m\u001b[0m\u001b[0m\n\u001b[1;32m     65\u001b[0m     \u001b[0;32mdef\u001b[0m \u001b[0msolve\u001b[0m\u001b[0;34m(\u001b[0m\u001b[0mself\u001b[0m\u001b[0;34m,\u001b[0m \u001b[0mx_pos\u001b[0m\u001b[0;34m,\u001b[0m \u001b[0my_pos\u001b[0m\u001b[0;34m,\u001b[0m \u001b[0minit\u001b[0m\u001b[0;34m,\u001b[0m \u001b[0mkwargs_list\u001b[0m\u001b[0;34m,\u001b[0m \u001b[0ma\u001b[0m\u001b[0;34m,\u001b[0m \u001b[0mxtol\u001b[0m\u001b[0;34m=\u001b[0m\u001b[0;36m1.49012e-10\u001b[0m\u001b[0;34m)\u001b[0m\u001b[0;34m:\u001b[0m\u001b[0;34m\u001b[0m\u001b[0m\n\u001b[0;32m---> 66\u001b[0;31m         \u001b[0mx\u001b[0m \u001b[0;34m=\u001b[0m \u001b[0mscipy\u001b[0m\u001b[0;34m.\u001b[0m\u001b[0moptimize\u001b[0m\u001b[0;34m.\u001b[0m\u001b[0mfsolve\u001b[0m\u001b[0;34m(\u001b[0m\u001b[0mself\u001b[0m\u001b[0;34m.\u001b[0m\u001b[0m_F\u001b[0m\u001b[0;34m,\u001b[0m \u001b[0minit\u001b[0m\u001b[0;34m,\u001b[0m \u001b[0margs\u001b[0m\u001b[0;34m=\u001b[0m\u001b[0;34m(\u001b[0m\u001b[0mx_pos\u001b[0m\u001b[0;34m,\u001b[0m \u001b[0my_pos\u001b[0m\u001b[0;34m,\u001b[0m \u001b[0mkwargs_list\u001b[0m\u001b[0;34m,\u001b[0m \u001b[0ma\u001b[0m\u001b[0;34m)\u001b[0m\u001b[0;34m,\u001b[0m \u001b[0mxtol\u001b[0m\u001b[0;34m=\u001b[0m\u001b[0mxtol\u001b[0m\u001b[0;34m)\u001b[0m\u001b[0;31m#, factor=0.1)\u001b[0m\u001b[0;34m\u001b[0m\u001b[0m\n\u001b[0m\u001b[1;32m     67\u001b[0m         \u001b[0;32mreturn\u001b[0m \u001b[0mx\u001b[0m\u001b[0;34m\u001b[0m\u001b[0m\n\u001b[1;32m     68\u001b[0m \u001b[0;34m\u001b[0m\u001b[0m\n",
      "\u001b[0;32m~/.local/lib/python3.6/site-packages/scipy/optimize/minpack.py\u001b[0m in \u001b[0;36mfsolve\u001b[0;34m(func, x0, args, fprime, full_output, col_deriv, xtol, maxfev, band, epsfcn, factor, diag)\u001b[0m\n\u001b[1;32m    146\u001b[0m                'diag': diag}\n\u001b[1;32m    147\u001b[0m \u001b[0;34m\u001b[0m\u001b[0m\n\u001b[0;32m--> 148\u001b[0;31m     \u001b[0mres\u001b[0m \u001b[0;34m=\u001b[0m \u001b[0m_root_hybr\u001b[0m\u001b[0;34m(\u001b[0m\u001b[0mfunc\u001b[0m\u001b[0;34m,\u001b[0m \u001b[0mx0\u001b[0m\u001b[0;34m,\u001b[0m \u001b[0margs\u001b[0m\u001b[0;34m,\u001b[0m \u001b[0mjac\u001b[0m\u001b[0;34m=\u001b[0m\u001b[0mfprime\u001b[0m\u001b[0;34m,\u001b[0m \u001b[0;34m**\u001b[0m\u001b[0moptions\u001b[0m\u001b[0;34m)\u001b[0m\u001b[0;34m\u001b[0m\u001b[0m\n\u001b[0m\u001b[1;32m    149\u001b[0m     \u001b[0;32mif\u001b[0m \u001b[0mfull_output\u001b[0m\u001b[0;34m:\u001b[0m\u001b[0;34m\u001b[0m\u001b[0m\n\u001b[1;32m    150\u001b[0m         \u001b[0mx\u001b[0m \u001b[0;34m=\u001b[0m \u001b[0mres\u001b[0m\u001b[0;34m[\u001b[0m\u001b[0;34m'x'\u001b[0m\u001b[0;34m]\u001b[0m\u001b[0;34m\u001b[0m\u001b[0m\n",
      "\u001b[0;32m~/.local/lib/python3.6/site-packages/scipy/optimize/minpack.py\u001b[0m in \u001b[0;36m_root_hybr\u001b[0;34m(func, x0, args, jac, col_deriv, xtol, maxfev, band, eps, factor, diag, **unknown_options)\u001b[0m\n\u001b[1;32m    225\u001b[0m         \u001b[0;32mwith\u001b[0m \u001b[0m_MINPACK_LOCK\u001b[0m\u001b[0;34m:\u001b[0m\u001b[0;34m\u001b[0m\u001b[0m\n\u001b[1;32m    226\u001b[0m             retval = _minpack._hybrd(func, x0, args, 1, xtol, maxfev,\n\u001b[0;32m--> 227\u001b[0;31m                                      ml, mu, epsfcn, factor, diag)\n\u001b[0m\u001b[1;32m    228\u001b[0m     \u001b[0;32melse\u001b[0m\u001b[0;34m:\u001b[0m\u001b[0;34m\u001b[0m\u001b[0m\n\u001b[1;32m    229\u001b[0m         \u001b[0m_check_func\u001b[0m\u001b[0;34m(\u001b[0m\u001b[0;34m'fsolve'\u001b[0m\u001b[0;34m,\u001b[0m \u001b[0;34m'fprime'\u001b[0m\u001b[0;34m,\u001b[0m \u001b[0mDfun\u001b[0m\u001b[0;34m,\u001b[0m \u001b[0mx0\u001b[0m\u001b[0;34m,\u001b[0m \u001b[0margs\u001b[0m\u001b[0;34m,\u001b[0m \u001b[0mn\u001b[0m\u001b[0;34m,\u001b[0m \u001b[0;34m(\u001b[0m\u001b[0mn\u001b[0m\u001b[0;34m,\u001b[0m \u001b[0mn\u001b[0m\u001b[0;34m)\u001b[0m\u001b[0;34m)\u001b[0m\u001b[0;34m\u001b[0m\u001b[0m\n",
      "\u001b[0;32m~/.local/lib/python3.6/site-packages/lenstronomy/LensModel/Solver/solver4point.py\u001b[0m in \u001b[0;36m_F\u001b[0;34m(self, x, x_pos, y_pos, kwargs_list, a)\u001b[0m\n\u001b[1;32m     72\u001b[0m             \u001b[0malpha_x\u001b[0m\u001b[0;34m,\u001b[0m \u001b[0malpha_y\u001b[0m \u001b[0;34m=\u001b[0m \u001b[0mself\u001b[0m\u001b[0;34m.\u001b[0m\u001b[0mlensModel\u001b[0m\u001b[0;34m.\u001b[0m\u001b[0malpha\u001b[0m\u001b[0;34m(\u001b[0m\u001b[0mx_pos\u001b[0m\u001b[0;34m,\u001b[0m \u001b[0my_pos\u001b[0m\u001b[0;34m,\u001b[0m \u001b[0mkwargs_list\u001b[0m\u001b[0;34m,\u001b[0m \u001b[0mk\u001b[0m\u001b[0;34m=\u001b[0m\u001b[0;36m0\u001b[0m\u001b[0;34m)\u001b[0m\u001b[0;34m\u001b[0m\u001b[0m\n\u001b[1;32m     73\u001b[0m             \u001b[0;32mif\u001b[0m \u001b[0mself\u001b[0m\u001b[0;34m.\u001b[0m\u001b[0m_solver_type\u001b[0m \u001b[0;32min\u001b[0m \u001b[0;34m[\u001b[0m\u001b[0;34m'PROFILE_SHEAR'\u001b[0m\u001b[0;34m,\u001b[0m \u001b[0;34m'PROFILE_SHEAR_GAMMA_PSI'\u001b[0m\u001b[0;34m]\u001b[0m\u001b[0;34m:\u001b[0m\u001b[0;34m\u001b[0m\u001b[0m\n\u001b[0;32m---> 74\u001b[0;31m                 \u001b[0malpha_x_shear\u001b[0m\u001b[0;34m,\u001b[0m \u001b[0malpha_y_shear\u001b[0m \u001b[0;34m=\u001b[0m \u001b[0mself\u001b[0m\u001b[0;34m.\u001b[0m\u001b[0mlensModel\u001b[0m\u001b[0;34m.\u001b[0m\u001b[0malpha\u001b[0m\u001b[0;34m(\u001b[0m\u001b[0mx_pos\u001b[0m\u001b[0;34m,\u001b[0m \u001b[0my_pos\u001b[0m\u001b[0;34m,\u001b[0m \u001b[0mkwargs_list\u001b[0m\u001b[0;34m,\u001b[0m \u001b[0mk\u001b[0m\u001b[0;34m=\u001b[0m\u001b[0;36m1\u001b[0m\u001b[0;34m)\u001b[0m\u001b[0;34m\u001b[0m\u001b[0m\n\u001b[0m\u001b[1;32m     75\u001b[0m                 \u001b[0malpha_x\u001b[0m \u001b[0;34m+=\u001b[0m \u001b[0malpha_x_shear\u001b[0m\u001b[0;34m\u001b[0m\u001b[0m\n\u001b[1;32m     76\u001b[0m                 \u001b[0malpha_y\u001b[0m \u001b[0;34m+=\u001b[0m \u001b[0malpha_y_shear\u001b[0m\u001b[0;34m\u001b[0m\u001b[0m\n",
      "\u001b[0;32m~/.local/lib/python3.6/site-packages/lenstronomy/LensModel/lens_model.py\u001b[0m in \u001b[0;36malpha\u001b[0;34m(self, x, y, kwargs, k)\u001b[0m\n\u001b[1;32m    132\u001b[0m         \u001b[0;34m:\u001b[0m\u001b[0;32mreturn\u001b[0m\u001b[0;34m:\u001b[0m \u001b[0mdeflection\u001b[0m \u001b[0mangles\u001b[0m \u001b[0;32min\u001b[0m \u001b[0munits\u001b[0m \u001b[0mof\u001b[0m \u001b[0marcsec\u001b[0m\u001b[0;34m\u001b[0m\u001b[0m\n\u001b[1;32m    133\u001b[0m         \"\"\"\n\u001b[0;32m--> 134\u001b[0;31m         \u001b[0;32mreturn\u001b[0m \u001b[0mself\u001b[0m\u001b[0;34m.\u001b[0m\u001b[0mlens_model\u001b[0m\u001b[0;34m.\u001b[0m\u001b[0malpha\u001b[0m\u001b[0;34m(\u001b[0m\u001b[0mx\u001b[0m\u001b[0;34m,\u001b[0m \u001b[0my\u001b[0m\u001b[0;34m,\u001b[0m \u001b[0mkwargs\u001b[0m\u001b[0;34m,\u001b[0m \u001b[0mk\u001b[0m\u001b[0;34m=\u001b[0m\u001b[0mk\u001b[0m\u001b[0;34m)\u001b[0m\u001b[0;34m\u001b[0m\u001b[0m\n\u001b[0m\u001b[1;32m    135\u001b[0m \u001b[0;34m\u001b[0m\u001b[0m\n\u001b[1;32m    136\u001b[0m     \u001b[0;32mdef\u001b[0m \u001b[0mhessian\u001b[0m\u001b[0;34m(\u001b[0m\u001b[0mself\u001b[0m\u001b[0;34m,\u001b[0m \u001b[0mx\u001b[0m\u001b[0;34m,\u001b[0m \u001b[0my\u001b[0m\u001b[0;34m,\u001b[0m \u001b[0mkwargs\u001b[0m\u001b[0;34m,\u001b[0m \u001b[0mk\u001b[0m\u001b[0;34m=\u001b[0m\u001b[0;32mNone\u001b[0m\u001b[0;34m)\u001b[0m\u001b[0;34m:\u001b[0m\u001b[0;34m\u001b[0m\u001b[0m\n",
      "\u001b[0;32m~/.local/lib/python3.6/site-packages/lenstronomy/LensModel/single_plane.py\u001b[0m in \u001b[0;36malpha\u001b[0;34m(self, x, y, kwargs, k)\u001b[0m\n\u001b[1;32m     79\u001b[0m         \u001b[0my\u001b[0m \u001b[0;34m=\u001b[0m \u001b[0mnp\u001b[0m\u001b[0;34m.\u001b[0m\u001b[0marray\u001b[0m\u001b[0;34m(\u001b[0m\u001b[0my\u001b[0m\u001b[0;34m,\u001b[0m \u001b[0mdtype\u001b[0m\u001b[0;34m=\u001b[0m\u001b[0mfloat\u001b[0m\u001b[0;34m)\u001b[0m\u001b[0;34m\u001b[0m\u001b[0m\n\u001b[1;32m     80\u001b[0m         \u001b[0;32mif\u001b[0m \u001b[0misinstance\u001b[0m\u001b[0;34m(\u001b[0m\u001b[0mk\u001b[0m\u001b[0;34m,\u001b[0m \u001b[0mint\u001b[0m\u001b[0;34m)\u001b[0m\u001b[0;34m:\u001b[0m\u001b[0;34m\u001b[0m\u001b[0m\n\u001b[0;32m---> 81\u001b[0;31m             \u001b[0;32mreturn\u001b[0m \u001b[0mself\u001b[0m\u001b[0;34m.\u001b[0m\u001b[0mfunc_list\u001b[0m\u001b[0;34m[\u001b[0m\u001b[0mk\u001b[0m\u001b[0;34m]\u001b[0m\u001b[0;34m.\u001b[0m\u001b[0mderivatives\u001b[0m\u001b[0;34m(\u001b[0m\u001b[0mx\u001b[0m\u001b[0;34m,\u001b[0m \u001b[0my\u001b[0m\u001b[0;34m,\u001b[0m \u001b[0;34m**\u001b[0m\u001b[0mkwargs\u001b[0m\u001b[0;34m[\u001b[0m\u001b[0mk\u001b[0m\u001b[0;34m]\u001b[0m\u001b[0;34m)\u001b[0m\u001b[0;34m\u001b[0m\u001b[0m\n\u001b[0m\u001b[1;32m     82\u001b[0m         \u001b[0mbool_list\u001b[0m \u001b[0;34m=\u001b[0m \u001b[0mself\u001b[0m\u001b[0;34m.\u001b[0m\u001b[0m_bool_list\u001b[0m\u001b[0;34m(\u001b[0m\u001b[0mk\u001b[0m\u001b[0;34m)\u001b[0m\u001b[0;34m\u001b[0m\u001b[0m\n\u001b[1;32m     83\u001b[0m         \u001b[0mf_x\u001b[0m\u001b[0;34m,\u001b[0m \u001b[0mf_y\u001b[0m \u001b[0;34m=\u001b[0m \u001b[0mnp\u001b[0m\u001b[0;34m.\u001b[0m\u001b[0mzeros_like\u001b[0m\u001b[0;34m(\u001b[0m\u001b[0mx\u001b[0m\u001b[0;34m)\u001b[0m\u001b[0;34m,\u001b[0m \u001b[0mnp\u001b[0m\u001b[0;34m.\u001b[0m\u001b[0mzeros_like\u001b[0m\u001b[0;34m(\u001b[0m\u001b[0mx\u001b[0m\u001b[0;34m)\u001b[0m\u001b[0;34m\u001b[0m\u001b[0m\n",
      "\u001b[0;32m~/.local/lib/python3.6/site-packages/lenstronomy/LensModel/Profiles/shear.py\u001b[0m in \u001b[0;36mderivatives\u001b[0;34m(self, x, y, gamma_ext, psi_ext, ra_0, dec_0)\u001b[0m\n\u001b[1;32m     59\u001b[0m     \u001b[0;32mdef\u001b[0m \u001b[0mderivatives\u001b[0m\u001b[0;34m(\u001b[0m\u001b[0mself\u001b[0m\u001b[0;34m,\u001b[0m \u001b[0mx\u001b[0m\u001b[0;34m,\u001b[0m \u001b[0my\u001b[0m\u001b[0;34m,\u001b[0m \u001b[0mgamma_ext\u001b[0m\u001b[0;34m,\u001b[0m \u001b[0mpsi_ext\u001b[0m\u001b[0;34m,\u001b[0m \u001b[0mra_0\u001b[0m\u001b[0;34m=\u001b[0m\u001b[0;36m0\u001b[0m\u001b[0;34m,\u001b[0m \u001b[0mdec_0\u001b[0m\u001b[0;34m=\u001b[0m\u001b[0;36m0\u001b[0m\u001b[0;34m)\u001b[0m\u001b[0;34m:\u001b[0m\u001b[0;34m\u001b[0m\u001b[0m\n\u001b[1;32m     60\u001b[0m         \u001b[0;31m# rotation angle\u001b[0m\u001b[0;34m\u001b[0m\u001b[0;34m\u001b[0m\u001b[0m\n\u001b[0;32m---> 61\u001b[0;31m         \u001b[0me1\u001b[0m\u001b[0;34m,\u001b[0m \u001b[0me2\u001b[0m \u001b[0;34m=\u001b[0m \u001b[0mparam_util\u001b[0m\u001b[0;34m.\u001b[0m\u001b[0mphi_gamma_ellipticity\u001b[0m\u001b[0;34m(\u001b[0m\u001b[0mpsi_ext\u001b[0m\u001b[0;34m,\u001b[0m \u001b[0mgamma_ext\u001b[0m\u001b[0;34m)\u001b[0m\u001b[0;34m\u001b[0m\u001b[0m\n\u001b[0m\u001b[1;32m     62\u001b[0m         \u001b[0;32mreturn\u001b[0m \u001b[0mself\u001b[0m\u001b[0;34m.\u001b[0m\u001b[0m_shear_e1e2\u001b[0m\u001b[0;34m.\u001b[0m\u001b[0mderivatives\u001b[0m\u001b[0;34m(\u001b[0m\u001b[0mx\u001b[0m\u001b[0;34m,\u001b[0m \u001b[0my\u001b[0m\u001b[0;34m,\u001b[0m \u001b[0me1\u001b[0m\u001b[0;34m,\u001b[0m \u001b[0me2\u001b[0m\u001b[0;34m,\u001b[0m \u001b[0mra_0\u001b[0m\u001b[0;34m,\u001b[0m \u001b[0mdec_0\u001b[0m\u001b[0;34m)\u001b[0m\u001b[0;34m\u001b[0m\u001b[0m\n\u001b[1;32m     63\u001b[0m \u001b[0;34m\u001b[0m\u001b[0m\n",
      "\u001b[0;32m~/.local/lib/python3.6/site-packages/lenstronomy/Util/param_util.py\u001b[0m in \u001b[0;36mphi_gamma_ellipticity\u001b[0;34m(phi, gamma)\u001b[0m\n\u001b[1;32m     44\u001b[0m     \"\"\"\n\u001b[1;32m     45\u001b[0m     \u001b[0me1\u001b[0m \u001b[0;34m=\u001b[0m \u001b[0mgamma\u001b[0m\u001b[0;34m*\u001b[0m\u001b[0mnp\u001b[0m\u001b[0;34m.\u001b[0m\u001b[0mcos\u001b[0m\u001b[0;34m(\u001b[0m\u001b[0;36m2\u001b[0m\u001b[0;34m*\u001b[0m\u001b[0mphi\u001b[0m\u001b[0;34m)\u001b[0m\u001b[0;34m\u001b[0m\u001b[0m\n\u001b[0;32m---> 46\u001b[0;31m     \u001b[0me2\u001b[0m \u001b[0;34m=\u001b[0m \u001b[0mgamma\u001b[0m\u001b[0;34m*\u001b[0m\u001b[0mnp\u001b[0m\u001b[0;34m.\u001b[0m\u001b[0msin\u001b[0m\u001b[0;34m(\u001b[0m\u001b[0;36m2\u001b[0m\u001b[0;34m*\u001b[0m\u001b[0mphi\u001b[0m\u001b[0;34m)\u001b[0m\u001b[0;34m\u001b[0m\u001b[0m\n\u001b[0m\u001b[1;32m     47\u001b[0m     \u001b[0;32mreturn\u001b[0m \u001b[0me1\u001b[0m\u001b[0;34m,\u001b[0m \u001b[0me2\u001b[0m\u001b[0;34m\u001b[0m\u001b[0m\n\u001b[1;32m     48\u001b[0m \u001b[0;34m\u001b[0m\u001b[0m\n",
      "\u001b[0;31mKeyboardInterrupt\u001b[0m: "
     ]
    }
   ],
   "source": [
    "from lenstronomy.Workflow.fitting_sequence import FittingSequence\n",
    "\n",
    "from lenstronomy.Workflow.fitting_sequence import FittingSequence\n",
    "fitting_seq = FittingSequence(kwargs_data_joint, kwargs_model, kwargs_constraints, kwargs_likelihood, kwargs_params)\n",
    "\n",
    "fitting_kwargs_list = [#['update_settings', {'lens_add_fixed': [[0, ['gamma']]]}],  # you can add additional fixed parameters if you want\n",
    "    ['PSO',\n",
    "     {'sigma_scale': 1., 'n_particles': 200, 'n_iterations': 500}],\n",
    "]\n",
    "\n",
    "start_time = time.time()\n",
    "chain_list_pso = fitting_seq.fit_sequence(fitting_kwargs_list)\n",
    "kwargs_result = fitting_seq.best_fit()\n",
    "end_time = time.time()\n",
    "print(end_time - start_time, 'total time needed for computation')\n",
    "print('============ CONGRATULATION, YOUR JOB WAS SUCCESSFUL ================ ')\n",
    "\n"
   ]
  },
  {
   "cell_type": "code",
   "execution_count": null,
   "metadata": {},
   "outputs": [],
   "source": [
    "kwargs_result = fitting_seq.best_fit(bijective=True)\n",
    "args_result = fitting_seq.param_class.kwargs2args(**kwargs_result)\n",
    "logL, _ = fitting_seq.likelihoodModule.logL(args_result, verbose=True)\n",
    "\n",
    "from lenstronomy.Plots import output_plots as out_plot\n",
    "for i in range(len(chain_list_pso)):\n",
    "    out_plot.plot_chain_list(chain_list_pso, i)"
   ]
  },
  {
   "cell_type": "markdown",
   "metadata": {},
   "source": [
    "## MCMC posterior sampling"
   ]
  },
  {
   "cell_type": "code",
   "execution_count": null,
   "metadata": {},
   "outputs": [],
   "source": [
    "#and now we run the MCMC\n",
    "fitting_kwargs_list = [\n",
    "    ['MCMC',\n",
    "     {'n_burn': 400, 'n_run': 600, 'walkerRatio': 10,'sigma_scale': 0.1}]\n",
    "]\n",
    "chain_list_mcmc = fitting_seq.fit_sequence(fitting_kwargs_list)\n",
    "kwargs_result = fitting_seq.best_fit()"
   ]
  },
  {
   "cell_type": "markdown",
   "metadata": {},
   "source": [
    "## Post-processing the chains "
   ]
  },
  {
   "cell_type": "code",
   "execution_count": null,
   "metadata": {
    "scrolled": true
   },
   "outputs": [],
   "source": [
    "\n",
    "sampler_type, samples_mcmc, param_mcmc, dist_mcmc  = chain_list_mcmc[0]\n",
    "\n",
    "print(\"number of non-linear parameters in the MCMC process: \", len(param_mcmc))\n",
    "print(\"parameters in order: \", param_mcmc)\n",
    "print(\"number of evaluations in the MCMC process: \", np.shape(samples_mcmc)[0])\n",
    "\n",
    "\n",
    "\n",
    "# import the parameter handling class #\n",
    "from lenstronomy.Sampling.parameters import Param\n",
    "import lenstronomy.Util.param_util as param_util\n",
    "# make instance of parameter class with given model options, constraints and fixed parameters\n",
    "# this allows to recover the full parameters of all model components, not just the ones being sampled.\n",
    "\n",
    "param = Param(kwargs_model, fixed_lens, kwargs_fixed_ps=fixed_ps, kwargs_fixed_special=fixed_special, \n",
    "              kwargs_lens_init=kwargs_result['kwargs_lens'], **kwargs_constraints)\n",
    "# the number of non-linear parameters and their names #\n",
    "num_param, param_list = param.num_param()\n",
    "\n",
    "\n",
    "lensModel = LensModel(kwargs_model['lens_model_list'])\n",
    "lensModelExtensions = LensModelExtensions(lensModel=lensModel) \n",
    "\n",
    "\n",
    "mcmc_new_list = []\n",
    "labels_new = [r\"$\\theta_E$\", r\"$\\gamma$\", r\"$\\phi_{lens}$\", r\"$q$\", r\"$\\phi_{ext}$\", r\"$\\gamma_{ext}$\"]\n",
    "if flux_ratio_likelihood is True:\n",
    "    labels_new.extend(['B/A', 'C/A', 'D/A'])\n",
    "if kwargs_constraints.get('source_size', False) is True:\n",
    "    if 'source_size' not in fixed_special:\n",
    "        labels_new.append('source size')\n",
    "if time_delay_likelihood is True:\n",
    "    labels_new.append(r\"$D_{dt}$\")\n",
    "    \n",
    "print(labels_new)\n"
   ]
  },
  {
   "cell_type": "code",
   "execution_count": null,
   "metadata": {},
   "outputs": [],
   "source": [
    "for i in range(len(samples_mcmc)):\n",
    "    # transform the parameter position of the MCMC chain in a lenstronomy convention with keyword arguments #\n",
    "    kwargs_out = param.args2kwargs(samples_mcmc[i])\n",
    "    kwargs_lens_out, kwargs_special_out, kwargs_ps_out = kwargs_out['kwargs_lens'], kwargs_out['kwargs_special'], kwargs_out['kwargs_ps']\n",
    "    \n",
    "    # compute 'real' image position adding potential astrometric shifts\n",
    "    x_pos, y_pos = kwargs_ps_out[0]['ra_image'], kwargs_ps_out[0]['dec_image']\n",
    "    \n",
    "    # extract quantities of the main deflector\n",
    "    theta_E = kwargs_lens_out[0]['theta_E']\n",
    "    gamma = kwargs_lens_out[0]['gamma']\n",
    "    e1, e2 = kwargs_lens_out[0]['e1'], kwargs_lens_out[0]['e2']\n",
    "    phi, q = param_util.ellipticity2phi_q(e1, e2)\n",
    "    phi_ext, gamma_ext = kwargs_lens_out[1]['psi_ext'] % np.pi, kwargs_lens_out[1]['gamma_ext']\n",
    "    new_chain = [theta_E, gamma, phi, q, phi_ext, gamma_ext]\n",
    "    if flux_ratio_likelihood is True:\n",
    "        mag = lensModel.magnification(x_pos, y_pos, kwargs_lens_out)\n",
    "        flux_ratio_fit = mag[1:]/mag[0]\n",
    "        new_chain.extend([flux_ratio_fit[0], flux_ratio_fit[1], flux_ratio_fit[2]])\n",
    "    if kwargs_constraints.get('source_size', False) is True and 'source_size' not in fixed_special:\n",
    "        source_size = kwargs_special_out['source_size']\n",
    "        new_chain.append(source_size)\n",
    "    if time_delay_likelihood is True:\n",
    "        D_dt = kwargs_special_out['D_dt']\n",
    "        new_chain.append(D_dt)\n",
    "    \n",
    "    #source_size = np.random.uniform(high=1, low=0)\n",
    "    mcmc_new_list.append(np.array(new_chain))"
   ]
  },
  {
   "cell_type": "code",
   "execution_count": null,
   "metadata": {},
   "outputs": [],
   "source": [
    "indx = np.asarray([0,1,2,4,5,9])\n",
    "labels_new_new = np.asarray([labels_new[ii] for iin in indx])\n",
    "mcmc_new_new_list = [ll[indx] for ll in mcmc_new_list]"
   ]
  },
  {
   "cell_type": "code",
   "execution_count": null,
   "metadata": {},
   "outputs": [],
   "source": [
    "plot = corner.corner(\n",
    "    mcmc_new_new_list,\n",
    "    labels=labels_new,\n",
    "    show_titles=True,\n",
    ")"
   ]
  },
  {
   "cell_type": "code",
   "execution_count": null,
   "metadata": {},
   "outputs": [],
   "source": [
    "c_light = 299792.458  # in km/s\n",
    "c_light/lensCosmo.D_dt"
   ]
  },
  {
   "cell_type": "code",
   "execution_count": null,
   "metadata": {},
   "outputs": [],
   "source": [
    "lensCosmo.D_dt"
   ]
  },
  {
   "cell_type": "code",
   "execution_count": null,
   "metadata": {},
   "outputs": [],
   "source": [
    "import seaborn as sns\n",
    "\n",
    "D_dt = np.asarray([ll[-1] for ll in mcmc_new_list])\n",
    "print(D_dt.min(), np.median(D_dt), np.mean(D_dt), np.std(D_dt))\n",
    "H0 = np.asarray([c_light/dd for dd in D_dt])\n",
    "print(H0.min(), np.mean(H0), np.std(H0))"
   ]
  },
  {
   "cell_type": "code",
   "execution_count": null,
   "metadata": {},
   "outputs": [],
   "source": [
    "np.mean(D_dt)\n",
    "np.std(D_dt)"
   ]
  },
  {
   "cell_type": "code",
   "execution_count": null,
   "metadata": {},
   "outputs": [],
   "source": [
    "sns.distplot(\n",
    "    H0[H0 < 1.2],\n",
    "    norm_hist=True,\n",
    "    rug=False,\n",
    "    hist=True,\n",
    "    kde=True,\n",
    "    label='GL quads',\n",
    ")"
   ]
  },
  {
   "cell_type": "code",
   "execution_count": null,
   "metadata": {},
   "outputs": [],
   "source": []
  }
 ],
 "metadata": {
  "kernelspec": {
   "display_name": "Python 3",
   "language": "python",
   "name": "python3"
  },
  "language_info": {
   "codemirror_mode": {
    "name": "ipython",
    "version": 3
   },
   "file_extension": ".py",
   "mimetype": "text/x-python",
   "name": "python",
   "nbconvert_exporter": "python",
   "pygments_lexer": "ipython3",
   "version": "3.6.5"
  }
 },
 "nbformat": 4,
 "nbformat_minor": 2
}
